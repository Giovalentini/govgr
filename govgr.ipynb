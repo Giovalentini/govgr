{
 "cells": [
  {
   "cell_type": "code",
   "execution_count": 1,
   "metadata": {},
   "outputs": [],
   "source": [
    "import time\n",
    "import pandas as pd\n",
    "from datetime import datetime, timedelta\n",
    "from selenium import webdriver\n",
    "from selenium.webdriver.common.by import By\n",
    "from selenium.webdriver.chrome.options import Options\n",
    "from bs4 import BeautifulSoup"
   ]
  },
  {
   "cell_type": "code",
   "execution_count": 2,
   "metadata": {},
   "outputs": [],
   "source": [
    "def scrape_table_data(soup):\n",
    "    \"\"\"Scrape table from a page.\"\"\"\n",
    "    # Find the table with a specific role\n",
    "    table = soup.find(\"table\", attrs={\"role\": \"grid\"})\n",
    "\n",
    "    # Initialize an empty list to store the column names\n",
    "    column_names = []\n",
    "\n",
    "    # Find the table header row\n",
    "    header_row = table.find(\"tr\")\n",
    "\n",
    "    # Extract the column names from the table header\n",
    "    for th in header_row.find_all(\"th\"):\n",
    "        # Process or print the column name\n",
    "        column_names.append(th.text.strip())\n",
    "\n",
    "    # Initialize an empty DataFrame\n",
    "    data = pd.DataFrame(columns=column_names)\n",
    "\n",
    "    # Iterate over the remaining rows in the table\n",
    "    for row in table.find_all(\"tr\")[1:]:  # Exclude the header row\n",
    "        # Extract the cells in each row\n",
    "        cells = row.find_all(\"td\")\n",
    "\n",
    "        # Create an empty dictionary to store the cell values\n",
    "        row_data = {}\n",
    "\n",
    "        for col_index, cell in enumerate(cells):\n",
    "            # Process or print the cell content along with its column name\n",
    "            column_name = column_names[col_index]\n",
    "            cell_content = cell.text.strip()\n",
    "\n",
    "            # Add the cell content to the row data dictionary\n",
    "            row_data[column_name] = cell_content\n",
    "\n",
    "        # Convert the row data list to a DataFrame with a single row\n",
    "        row_df = pd.DataFrame([row_data], columns=column_names)\n",
    "\n",
    "        # Concatenate the row DataFrame with the main DataFrame\n",
    "        data = pd.concat([data, row_df], ignore_index=True)\n",
    "\n",
    "        # Select only rows added within 1 week from time of execution\n",
    "\n",
    "    return data\n"
   ]
  },
  {
   "cell_type": "code",
   "execution_count": 3,
   "metadata": {},
   "outputs": [
    {
     "name": "stdout",
     "output_type": "stream",
     "text": [
      "0\n",
      "1\n",
      "2\n"
     ]
    }
   ],
   "source": [
    "# Set the options for the ChromeDriver\n",
    "chrome_options = Options()\n",
    "chrome_options.add_argument(\"--headless\")  # Run in headless mode, without opening a browser window\n",
    "\n",
    "# Create an instance of the ChromeDriver\n",
    "driver = webdriver.Chrome(options=chrome_options)\n",
    "\n",
    "# Navigate to the initial page\n",
    "driver.get(\"https://keyd.gsis.gr/dsae2/iif/faces/pages/static/publicationList.xhtml#\")\n",
    "\n",
    "# Initialize an empty DataFrame\n",
    "data = pd.DataFrame()\n",
    "\n",
    "i = 0\n",
    "# Scrape data from each page\n",
    "while i<3:\n",
    "    print(i)\n",
    "    # Extract the page source and pass it to BeautifulSoup for parsing\n",
    "    page_source = driver.page_source\n",
    "    soup = BeautifulSoup(page_source, \"html.parser\")\n",
    "\n",
    "    # Pass the function for scraping the table\n",
    "    scraped_data = scrape_table_data(soup)\n",
    "\n",
    "    if i == 0:\n",
    "        data = scraped_data\n",
    "\n",
    "    else:\n",
    "        # Concatenate the new data with the existing data\n",
    "        data = pd.concat([scraped_data, data], ignore_index=True)\n",
    "\n",
    "    # Check if there is a next page\n",
    "    next_page_element = driver.find_element(By.CSS_SELECTOR, \"[aria-label='Next Page']\")\n",
    "    next_page_class = next_page_element.get_attribute(\"class\")\n",
    "    if \"disabled\" in next_page_class.split():\n",
    "        break\n",
    "\n",
    "    # Navigate to the next page\n",
    "    next_page_element.click()\n",
    "\n",
    "    time.sleep(2)\n",
    "\n",
    "    i += 1\n",
    "\n",
    "# Close the browser and clean up the resources\n",
    "driver.quit()\n",
    "\n",
    "# Display the resulting DataFrame\n",
    "#print(data)"
   ]
  },
  {
   "cell_type": "code",
   "execution_count": 11,
   "metadata": {},
   "outputs": [],
   "source": [
    "## Get today's date\n",
    "#today = datetime.now().date()\n",
    "#\n",
    "## Calculate the date 7 days ago\n",
    "#seven_days_ago = today - timedelta(days=7)\n",
    "#\n",
    "#data[\"Ημερομηνία Καταχώρησης\"] = pd.to_datetime(data[\"Ημερομηνία Καταχώρησης\"], errors=\"coerce\").dt.date\n",
    "#prova = data[data[\"Ημερομηνία Καταχώρησης\"] >= seven_days_ago]"
   ]
  },
  {
   "cell_type": "code",
   "execution_count": 17,
   "metadata": {},
   "outputs": [],
   "source": []
  },
  {
   "cell_type": "code",
   "execution_count": null,
   "metadata": {},
   "outputs": [],
   "source": []
  }
 ],
 "metadata": {
  "kernelspec": {
   "display_name": "Python 3",
   "language": "python",
   "name": "python3"
  },
  "language_info": {
   "codemirror_mode": {
    "name": "ipython",
    "version": 3
   },
   "file_extension": ".py",
   "mimetype": "text/x-python",
   "name": "python",
   "nbconvert_exporter": "python",
   "pygments_lexer": "ipython3",
   "version": "3.8.10"
  },
  "orig_nbformat": 4
 },
 "nbformat": 4,
 "nbformat_minor": 2
}
